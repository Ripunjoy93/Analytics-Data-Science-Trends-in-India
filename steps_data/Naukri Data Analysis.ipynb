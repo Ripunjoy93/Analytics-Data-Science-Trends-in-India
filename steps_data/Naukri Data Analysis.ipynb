{
 "cells": [
  {
   "cell_type": "code",
   "execution_count": 159,
   "metadata": {
    "collapsed": true
   },
   "outputs": [],
   "source": [
    "%matplotlib inline\n",
    "import pandas as pd\n",
    "import seaborn as sns\n",
    "import matplotlib.pyplot as plt\n",
    "import time\n",
    "import requests\n",
    "from bs4 import BeautifulSoup\n",
    "pd.set_option('display.width', 500)\n",
    "pd.set_option('display.max_columns', 100)\n",
    "pd.set_option('display.notebook_repr_html', True)\n",
    "sns.set_style(\"whitegrid\")\n",
    "sns.set_context(\"poster\")"
   ]
  },
  {
   "cell_type": "code",
   "execution_count": 101,
   "metadata": {
    "collapsed": false
   },
   "outputs": [
    {
     "name": "stdout",
     "output_type": "stream",
     "text": [
      "df1 shape(719, 21)\n",
      "df2 shape(678, 21)\n",
      "df3 shape(754, 21)\n",
      "df4 shape(1072, 21)\n",
      "job_df shape(3223, 20)\n",
      "job_df shape after removing duplicates(2775, 21)\n"
     ]
    },
    {
     "data": {
      "text/html": [
       "<div>\n",
       "<table border=\"1\" class=\"dataframe\">\n",
       "  <thead>\n",
       "    <tr style=\"text-align: right;\">\n",
       "      <th></th>\n",
       "      <th>Job_Link</th>\n",
       "      <th>Job_Title</th>\n",
       "      <th>Company_Name</th>\n",
       "      <th>Experience</th>\n",
       "      <th>Location</th>\n",
       "      <th>SalaryI</th>\n",
       "      <th>Num_Openings</th>\n",
       "      <th>Job_Post</th>\n",
       "      <th>Job_Application</th>\n",
       "      <th>Job_View</th>\n",
       "      <th>Salary</th>\n",
       "      <th>Industry</th>\n",
       "      <th>Functional_Area</th>\n",
       "      <th>Role_Category</th>\n",
       "      <th>Design_Role</th>\n",
       "      <th>Key_Skills</th>\n",
       "      <th>Skill_Experience</th>\n",
       "      <th>UG</th>\n",
       "      <th>PG</th>\n",
       "      <th>Doctorate</th>\n",
       "      <th>Actual_Job_Link</th>\n",
       "    </tr>\n",
       "  </thead>\n",
       "  <tbody>\n",
       "    <tr>\n",
       "      <th>0</th>\n",
       "      <td>https://www.naukri.com/job-listings-Data-Scien...</td>\n",
       "      <td>Data Scientist - Perl/python</td>\n",
       "      <td>niki.ai</td>\n",
       "      <td>3 - 6 yrs</td>\n",
       "      <td>Bengaluru</td>\n",
       "      <td>Not Disclosed by Recruiter</td>\n",
       "      <td>NaN</td>\n",
       "      <td>Posted Just Now</td>\n",
       "      <td>Less than 10</td>\n",
       "      <td>Less than 10</td>\n",
       "      <td>Not Disclosed by Recruiter</td>\n",
       "      <td>IT-Software  /    Software Services</td>\n",
       "      <td>Analytics &amp; Business Intelligence</td>\n",
       "      <td>Analytics &amp; BI</td>\n",
       "      <td>Data Analyst</td>\n",
       "      <td>Machine Learning,Python,Data Analysis,Statisti...</td>\n",
       "      <td>Qualifications and Skills :1. B.tech/MS or equ...</td>\n",
       "      <td>B.Tech/B.E. - Any Specialization</td>\n",
       "      <td>M.Tech - Any Specialization, MS/M.Sc(Science) ...</td>\n",
       "      <td>Doctorate Not Required</td>\n",
       "      <td>https://www.naukri.com/job-listings-Data-Scien...</td>\n",
       "    </tr>\n",
       "    <tr>\n",
       "      <th>1</th>\n",
       "      <td>https://www.naukri.com/job-listings-Data-Scien...</td>\n",
       "      <td>Data Scientist</td>\n",
       "      <td>Brillio Technologies Pvt. Ltd</td>\n",
       "      <td>2 - 5 yrs</td>\n",
       "      <td>Bengaluru</td>\n",
       "      <td>Not Disclosed by Recruiter</td>\n",
       "      <td>NaN</td>\n",
       "      <td>Posted 1 day ago</td>\n",
       "      <td>14</td>\n",
       "      <td>166</td>\n",
       "      <td>Not Disclosed by Recruiter</td>\n",
       "      <td>IT-Software  /    Software Services</td>\n",
       "      <td>Medical   ,     Healthcare   ,     R&amp;D   ,    ...</td>\n",
       "      <td>R&amp;D</td>\n",
       "      <td>Research Scientist</td>\n",
       "      <td>Analytics,Data analysis,Python,Visualization,A...</td>\n",
       "      <td>NaN</td>\n",
       "      <td>Any Graduate - Any Specialization</td>\n",
       "      <td>Post Graduation Not Required</td>\n",
       "      <td>NaN</td>\n",
       "      <td>https://www.naukri.com/job-listings-Data-Scien...</td>\n",
       "    </tr>\n",
       "    <tr>\n",
       "      <th>2</th>\n",
       "      <td>https://www.naukri.com/job-listings-Senior-Dat...</td>\n",
       "      <td>Senior Data Scientist, Data Scientist,</td>\n",
       "      <td>Knorex India</td>\n",
       "      <td>3 - 6 yrs</td>\n",
       "      <td>Pune(Hadapsar)</td>\n",
       "      <td>4,25,000 - 9,25,000 P.A.</td>\n",
       "      <td>Openings: 1</td>\n",
       "      <td>Posted Just Now</td>\n",
       "      <td>Less than 10</td>\n",
       "      <td>Less than 10</td>\n",
       "      <td>INR  4,25,000 - 9,25,000 P.A.</td>\n",
       "      <td>IT-Software  /    Software Services</td>\n",
       "      <td>IT Software - System Programming</td>\n",
       "      <td>Programming &amp; Design</td>\n",
       "      <td>System Analyst</td>\n",
       "      <td>python,machine learning,r,algorithms,java,mark...</td>\n",
       "      <td>Please refer to the Job description above</td>\n",
       "      <td>B.Tech/B.E. - Computers</td>\n",
       "      <td>M.Tech - Computers, Post Graduation Not Required</td>\n",
       "      <td>Doctorate Not Required</td>\n",
       "      <td>https://www.naukri.com/job-listings-Senior-Dat...</td>\n",
       "    </tr>\n",
       "    <tr>\n",
       "      <th>3</th>\n",
       "      <td>https://www.naukri.com/job-listings-Data-Scien...</td>\n",
       "      <td>Data Scientist</td>\n",
       "      <td>GoPaisa Netventures Pvt Ltd</td>\n",
       "      <td>3 - 5 yrs</td>\n",
       "      <td>New Delhi,    Jasola</td>\n",
       "      <td>Not Disclosed by Recruiter</td>\n",
       "      <td>NaN</td>\n",
       "      <td>Posted 2 days ago</td>\n",
       "      <td>Less than 10</td>\n",
       "      <td>108</td>\n",
       "      <td>Not Disclosed by Recruiter</td>\n",
       "      <td>Internet  /    Ecommerce</td>\n",
       "      <td>IT Software - eCommerce   ,     Internet Techn...</td>\n",
       "      <td>Programming &amp; Design</td>\n",
       "      <td>Database Architect/Designer</td>\n",
       "      <td>mysql,solr,git,web technologies,performance tu...</td>\n",
       "      <td>Qualification\\t-B-Tech , MCA , M-Tech</td>\n",
       "      <td>B.Tech/B.E. - Any Specialization</td>\n",
       "      <td>M.Tech - Any Specialization, MCA - Computers</td>\n",
       "      <td>Doctorate Not Required</td>\n",
       "      <td>https://www.naukri.com/job-listings-Data-Scien...</td>\n",
       "    </tr>\n",
       "    <tr>\n",
       "      <th>4</th>\n",
       "      <td>https://www.naukri.com/job-listings-Data-Engin...</td>\n",
       "      <td>Data Engineer/analyst/scientist (Big Data)</td>\n",
       "      <td>IDS Infotech Ltd.</td>\n",
       "      <td>2 - 4 yrs</td>\n",
       "      <td>Chandigarh</td>\n",
       "      <td>4,00,000 - 8,00,000 P.A.</td>\n",
       "      <td>Openings: 1</td>\n",
       "      <td>Posted Just Now</td>\n",
       "      <td>Less than 10</td>\n",
       "      <td>Less than 10</td>\n",
       "      <td>INR  4,00,000 - 8,00,000 P.A.</td>\n",
       "      <td>IT-Software  /    Software Services</td>\n",
       "      <td>IT Software - Application Programming   ,     ...</td>\n",
       "      <td>Programming &amp; Design</td>\n",
       "      <td>Software Developer</td>\n",
       "      <td>Big Data Engineer,Big Data Developer,Big Data ...</td>\n",
       "      <td>Please refer to the Job description above</td>\n",
       "      <td>B.Tech/B.E. - Computers, BCA - Computers</td>\n",
       "      <td>M.Tech - Computers, MCA - Computers</td>\n",
       "      <td>NaN</td>\n",
       "      <td>https://www.naukri.com/job-listings-Data-Engin...</td>\n",
       "    </tr>\n",
       "  </tbody>\n",
       "</table>\n",
       "</div>"
      ],
      "text/plain": [
       "                                            Job_Link                                   Job_Title                   Company_Name Experience              Location                     SalaryI Num_Openings           Job_Post Job_Application      Job_View                         Salary                             Industry                                    Functional_Area         Role_Category                  Design_Role                                         Key_Skills  \\\n",
       "0  https://www.naukri.com/job-listings-Data-Scien...                Data Scientist - Perl/python                        niki.ai  3 - 6 yrs             Bengaluru  Not Disclosed by Recruiter          NaN    Posted Just Now    Less than 10  Less than 10     Not Disclosed by Recruiter  IT-Software  /    Software Services                  Analytics & Business Intelligence        Analytics & BI                 Data Analyst  Machine Learning,Python,Data Analysis,Statisti...   \n",
       "1  https://www.naukri.com/job-listings-Data-Scien...                              Data Scientist  Brillio Technologies Pvt. Ltd  2 - 5 yrs             Bengaluru  Not Disclosed by Recruiter          NaN   Posted 1 day ago              14           166     Not Disclosed by Recruiter  IT-Software  /    Software Services  Medical   ,     Healthcare   ,     R&D   ,    ...                   R&D           Research Scientist  Analytics,Data analysis,Python,Visualization,A...   \n",
       "2  https://www.naukri.com/job-listings-Senior-Dat...      Senior Data Scientist, Data Scientist,                   Knorex India  3 - 6 yrs        Pune(Hadapsar)    4,25,000 - 9,25,000 P.A.  Openings: 1    Posted Just Now    Less than 10  Less than 10  INR  4,25,000 - 9,25,000 P.A.  IT-Software  /    Software Services                   IT Software - System Programming  Programming & Design               System Analyst  python,machine learning,r,algorithms,java,mark...   \n",
       "3  https://www.naukri.com/job-listings-Data-Scien...                              Data Scientist    GoPaisa Netventures Pvt Ltd  3 - 5 yrs  New Delhi,    Jasola  Not Disclosed by Recruiter          NaN  Posted 2 days ago    Less than 10           108     Not Disclosed by Recruiter             Internet  /    Ecommerce  IT Software - eCommerce   ,     Internet Techn...  Programming & Design  Database Architect/Designer  mysql,solr,git,web technologies,performance tu...   \n",
       "4  https://www.naukri.com/job-listings-Data-Engin...  Data Engineer/analyst/scientist (Big Data)              IDS Infotech Ltd.  2 - 4 yrs            Chandigarh    4,00,000 - 8,00,000 P.A.  Openings: 1    Posted Just Now    Less than 10  Less than 10  INR  4,00,000 - 8,00,000 P.A.  IT-Software  /    Software Services  IT Software - Application Programming   ,     ...  Programming & Design           Software Developer  Big Data Engineer,Big Data Developer,Big Data ...   \n",
       "\n",
       "                                    Skill_Experience                                        UG                                                 PG               Doctorate                                    Actual_Job_Link  \n",
       "0  Qualifications and Skills :1. B.tech/MS or equ...          B.Tech/B.E. - Any Specialization  M.Tech - Any Specialization, MS/M.Sc(Science) ...  Doctorate Not Required  https://www.naukri.com/job-listings-Data-Scien...  \n",
       "1                                                NaN         Any Graduate - Any Specialization                       Post Graduation Not Required                     NaN  https://www.naukri.com/job-listings-Data-Scien...  \n",
       "2          Please refer to the Job description above                   B.Tech/B.E. - Computers   M.Tech - Computers, Post Graduation Not Required  Doctorate Not Required  https://www.naukri.com/job-listings-Senior-Dat...  \n",
       "3              Qualification\\t-B-Tech , MCA , M-Tech          B.Tech/B.E. - Any Specialization       M.Tech - Any Specialization, MCA - Computers  Doctorate Not Required  https://www.naukri.com/job-listings-Data-Scien...  \n",
       "4          Please refer to the Job description above  B.Tech/B.E. - Computers, BCA - Computers                M.Tech - Computers, MCA - Computers                     NaN  https://www.naukri.com/job-listings-Data-Engin...  "
      ]
     },
     "execution_count": 101,
     "metadata": {},
     "output_type": "execute_result"
    }
   ],
   "source": [
    "# get all the data for job\n",
    "\n",
    "df1 = pd.read_csv(\"job_df20.csv\", encoding = \"ISO-8859-1\")\n",
    "print(\"df1 shape\" + str(df1.shape))\n",
    "df2 = pd.read_csv(\"job_df40.csv\", encoding = \"utf-8\")\n",
    "print(\"df2 shape\" + str(df2.shape))\n",
    "df3 = pd.read_csv(\"job_df_dataAnalyst.csv\", encoding = \"utf-8\")\n",
    "print(\"df3 shape\" + str(df3.shape))\n",
    "df4 = pd.read_csv(\"job_df_machine.csv\", encoding = \"utf-8\")\n",
    "print(\"df4 shape\" + str(df4.shape))\n",
    "df4 = pd.read_csv(\"job_df_machine.csv\", encoding = \"utf-8\")\n",
    "print(\"df4 shape\" + str(df4.shape))\n",
    "\n",
    "# Append the df's\n",
    "job_df = df1.append(df2).append(df3).append(df4)\n",
    "\n",
    "# There is an Unnamed:0 column, droping that column\n",
    "job_df.drop(job_df.columns[[0]], axis=1, inplace=True)\n",
    "print(\"job_df shape\" + str(job_df.shape))\n",
    "\n",
    "# Dropping the duplicate Job_URL rows from the data frame so that it comes only once\n",
    "# Not working because last few index is dynamic after ?src=something; need to modify the job_links\n",
    "job_df[['Actual_Job_Link', 'SearchId']] = job_df.Job_Link.str.split(\"?\" , expand=True)\n",
    "# drop SearchId column\n",
    "job_df.drop(\"SearchId\", axis=1, inplace=True)\n",
    "job_df = job_df.drop_duplicates(\"Actual_Job_Link\")\n",
    "print(\"job_df shape after removing duplicates\" + str(job_df.shape))\n",
    "job_df.head()"
   ]
  },
  {
   "cell_type": "code",
   "execution_count": 105,
   "metadata": {
    "collapsed": false
   },
   "outputs": [
    {
     "name": "stdout",
     "output_type": "stream",
     "text": [
      "jdf1 shape(1001, 3)\n",
      "jdf2 shape(1001, 3)\n",
      "jdf3 shape(1500, 3)\n",
      "jdf4 shape(1500, 3)\n",
      "job_links shape(5002, 2)\n",
      "job_links shape after removing duplicates(3440, 3)\n"
     ]
    },
    {
     "data": {
      "text/html": [
       "<div>\n",
       "<table border=\"1\" class=\"dataframe\">\n",
       "  <thead>\n",
       "    <tr style=\"text-align: right;\">\n",
       "      <th></th>\n",
       "      <th>Job_Link</th>\n",
       "      <th>Response</th>\n",
       "      <th>Actual_Job_Link</th>\n",
       "    </tr>\n",
       "  </thead>\n",
       "  <tbody>\n",
       "    <tr>\n",
       "      <th>0</th>\n",
       "      <td>https://www.naukri.com/job-listings-AI-Scienti...</td>\n",
       "      <td>&lt;Response [200]&gt;</td>\n",
       "      <td>https://www.naukri.com/job-listings-AI-Scienti...</td>\n",
       "    </tr>\n",
       "    <tr>\n",
       "      <th>1</th>\n",
       "      <td>https://www.naukri.com/job-listings-Data-Scien...</td>\n",
       "      <td>&lt;Response [200]&gt;</td>\n",
       "      <td>https://www.naukri.com/job-listings-Data-Scien...</td>\n",
       "    </tr>\n",
       "    <tr>\n",
       "      <th>2</th>\n",
       "      <td>https://www.naukri.com/job-listings-Data-Scien...</td>\n",
       "      <td>&lt;Response [200]&gt;</td>\n",
       "      <td>https://www.naukri.com/job-listings-Data-Scien...</td>\n",
       "    </tr>\n",
       "    <tr>\n",
       "      <th>3</th>\n",
       "      <td>https://www.naukri.com/job-listings-Senior-Dat...</td>\n",
       "      <td>&lt;Response [200]&gt;</td>\n",
       "      <td>https://www.naukri.com/job-listings-Senior-Dat...</td>\n",
       "    </tr>\n",
       "    <tr>\n",
       "      <th>4</th>\n",
       "      <td>https://www.naukri.com/job-listings-Data-Scien...</td>\n",
       "      <td>&lt;Response [200]&gt;</td>\n",
       "      <td>https://www.naukri.com/job-listings-Data-Scien...</td>\n",
       "    </tr>\n",
       "  </tbody>\n",
       "</table>\n",
       "</div>"
      ],
      "text/plain": [
       "                                            Job_Link          Response                                    Actual_Job_Link\n",
       "0  https://www.naukri.com/job-listings-AI-Scienti...  <Response [200]>  https://www.naukri.com/job-listings-AI-Scienti...\n",
       "1  https://www.naukri.com/job-listings-Data-Scien...  <Response [200]>  https://www.naukri.com/job-listings-Data-Scien...\n",
       "2  https://www.naukri.com/job-listings-Data-Scien...  <Response [200]>  https://www.naukri.com/job-listings-Data-Scien...\n",
       "3  https://www.naukri.com/job-listings-Senior-Dat...  <Response [200]>  https://www.naukri.com/job-listings-Senior-Dat...\n",
       "4  https://www.naukri.com/job-listings-Data-Scien...  <Response [200]>  https://www.naukri.com/job-listings-Data-Scien..."
      ]
     },
     "execution_count": 105,
     "metadata": {},
     "output_type": "execute_result"
    }
   ],
   "source": [
    "# get all the data for job links\n",
    "jdf1 = pd.read_csv(\"job_links_df20.csv\", encoding = \"ISO-8859-1\")\n",
    "print(\"jdf1 shape\" + str(jdf1.shape))\n",
    "jdf2 = pd.read_csv(\"job_links_df20.csv\", encoding = \"utf-8\")\n",
    "print(\"jdf2 shape\" + str(jdf2.shape))\n",
    "jdf3 = pd.read_csv(\"job_links_df_dataAnalyst.csv\", encoding = \"utf-8\")\n",
    "print(\"jdf3 shape\" + str(jdf3.shape))\n",
    "jdf4 = pd.read_csv(\"job_links_df_machine.csv\", encoding = \"utf-8\")\n",
    "print(\"jdf4 shape\" + str(jdf4.shape))\n",
    "\n",
    "# Append\n",
    "job_links = jdf1.append(jdf2).append(jdf3).append(jdf4)\n",
    "\n",
    "# There is an Unnamed:0 column, droping that column\n",
    "job_links.drop(job_links.columns[[0]], axis=1, inplace=True)\n",
    "print(\"job_links shape\" + str(job_links.shape))\n",
    "\n",
    "# Dropping the duplicate Job_URL rows from the data frame so that it comes only once\n",
    "# Not working because last few index is dynamic after ?src=something; need to modify the job_links\n",
    "job_links[['Actual_Job_Link', 'SearchId']] = job_links.Job_Link.str.split(\"?\" , expand=True)\n",
    "# drop SearchId column\n",
    "job_links.drop(\"SearchId\", axis=1, inplace=True)\n",
    "job_links = job_links.drop_duplicates(\"Actual_Job_Link\")\n",
    "print(\"job_links shape after removing duplicates\" + str(job_links.shape))\n",
    "job_links.head()"
   ]
  },
  {
   "cell_type": "code",
   "execution_count": 138,
   "metadata": {
    "collapsed": false
   },
   "outputs": [],
   "source": [
    "# Clearly we can notice that there are unique job_links for whom we don't have any data\n",
    "# We will try to get those links and pass it to the scrapper to scrap those links again, or try to modify the scrapping operation if required\n",
    "# ANTI-JOIN is neede\n",
    "links_with_data = job_df['Actual_Job_Link'].to_frame()\n",
    "all_job_links = job_links['Actual_Job_Link'].to_frame()\n",
    "out_merge = pd.merge(links_with_data,all_job_links, how='outer', indicator=True)\n",
    "remaining_job_list = out_merge[out_merge['_merge'] == 'right_only']"
   ]
  },
  {
   "cell_type": "code",
   "execution_count": 139,
   "metadata": {
    "collapsed": false
   },
   "outputs": [
    {
     "data": {
      "text/plain": [
       "(1309, 2)"
      ]
     },
     "execution_count": 139,
     "metadata": {},
     "output_type": "execute_result"
    }
   ],
   "source": [
    "remaining_job_list.shape"
   ]
  },
  {
   "cell_type": "code",
   "execution_count": 140,
   "metadata": {
    "collapsed": false
   },
   "outputs": [
    {
     "data": {
      "text/html": [
       "<div>\n",
       "<table border=\"1\" class=\"dataframe\">\n",
       "  <thead>\n",
       "    <tr style=\"text-align: right;\">\n",
       "      <th></th>\n",
       "      <th>Actual_Job_Link</th>\n",
       "      <th>_merge</th>\n",
       "    </tr>\n",
       "  </thead>\n",
       "  <tbody>\n",
       "    <tr>\n",
       "      <th>2775</th>\n",
       "      <td>https://www.naukri.com/job-listings-AI-Scienti...</td>\n",
       "      <td>right_only</td>\n",
       "    </tr>\n",
       "    <tr>\n",
       "      <th>2776</th>\n",
       "      <td>https://www.naukri.com/job-listings-Senior-Dat...</td>\n",
       "      <td>right_only</td>\n",
       "    </tr>\n",
       "    <tr>\n",
       "      <th>2777</th>\n",
       "      <td>https://www.naukri.com/job-listings-Business-D...</td>\n",
       "      <td>right_only</td>\n",
       "    </tr>\n",
       "    <tr>\n",
       "      <th>2778</th>\n",
       "      <td>https://www.naukri.com/job-listings-Data-Scien...</td>\n",
       "      <td>right_only</td>\n",
       "    </tr>\n",
       "    <tr>\n",
       "      <th>2779</th>\n",
       "      <td>https://www.naukri.com/job-listings-Urgent-Ope...</td>\n",
       "      <td>right_only</td>\n",
       "    </tr>\n",
       "  </tbody>\n",
       "</table>\n",
       "</div>"
      ],
      "text/plain": [
       "                                        Actual_Job_Link      _merge\n",
       "2775  https://www.naukri.com/job-listings-AI-Scienti...  right_only\n",
       "2776  https://www.naukri.com/job-listings-Senior-Dat...  right_only\n",
       "2777  https://www.naukri.com/job-listings-Business-D...  right_only\n",
       "2778  https://www.naukri.com/job-listings-Data-Scien...  right_only\n",
       "2779  https://www.naukri.com/job-listings-Urgent-Ope...  right_only"
      ]
     },
     "execution_count": 140,
     "metadata": {},
     "output_type": "execute_result"
    }
   ],
   "source": [
    "remaining_job_list.head()"
   ]
  },
  {
   "cell_type": "code",
   "execution_count": 145,
   "metadata": {
    "collapsed": false
   },
   "outputs": [],
   "source": [
    "import requests\n",
    "from bs4 import BeautifulSoup"
   ]
  },
  {
   "cell_type": "code",
   "execution_count": 146,
   "metadata": {
    "collapsed": true
   },
   "outputs": [],
   "source": [
    "job_url = \"https://www.naukri.com/job-listings-Sr-Data-Scientist-Pykih-Data-Intelligence-Private-Limited-Ahmedabad-5-to-10-years-161017005627\"\n",
    "job_response = requests.get(job_url)\n",
    "job_page = job_response.text\n",
    "job_soup = BeautifulSoup(job_page, \"html.parser\")"
   ]
  },
  {
   "cell_type": "code",
   "execution_count": 147,
   "metadata": {
    "collapsed": false
   },
   "outputs": [
    {
     "data": {
      "text/plain": [
       "'Sr. Data Scientist'"
      ]
     },
     "execution_count": 147,
     "metadata": {},
     "output_type": "execute_result"
    }
   ],
   "source": [
    "job_title = job_soup.find(\"h1\", {\"itemprop\":\"title\"}).getText().strip()\n",
    "job_title"
   ]
  },
  {
   "cell_type": "code",
   "execution_count": 148,
   "metadata": {
    "collapsed": true
   },
   "outputs": [],
   "source": [
    "# openings = job_soup.find(\"div\",{\"class\":\"sumFoot\"}).find_all(\"span\")\n",
    "# openings\n",
    "openings = \"\"\n",
    "posted = \"\"\n",
    "for x in job_soup.find(\"div\",{\"class\":\"sumFoot\"}).find_all(\"span\"):\n",
    "    if \"Openings\" in x.text.strip():\n",
    "        openings = x.text.strip()\n",
    "    if \"Posted\" in x.text.strip():\n",
    "        posted = x.text.strip()"
   ]
  },
  {
   "cell_type": "code",
   "execution_count": 149,
   "metadata": {
    "collapsed": false
   },
   "outputs": [
    {
     "data": {
      "text/plain": [
       "'Openings: 1'"
      ]
     },
     "execution_count": 149,
     "metadata": {},
     "output_type": "execute_result"
    }
   ],
   "source": [
    "openings"
   ]
  },
  {
   "cell_type": "code",
   "execution_count": 150,
   "metadata": {
    "collapsed": false
   },
   "outputs": [
    {
     "data": {
      "text/plain": [
       "'Posted 3 days ago'"
      ]
     },
     "execution_count": 150,
     "metadata": {},
     "output_type": "execute_result"
    }
   ],
   "source": [
    "posted"
   ]
  },
  {
   "cell_type": "code",
   "execution_count": 151,
   "metadata": {
    "collapsed": false
   },
   "outputs": [
    {
     "data": {
      "text/plain": [
       "pandas.core.frame.DataFrame"
      ]
     },
     "execution_count": 151,
     "metadata": {},
     "output_type": "execute_result"
    }
   ],
   "source": [
    "type(remaining_job_list)"
   ]
  },
  {
   "cell_type": "code",
   "execution_count": 157,
   "metadata": {
    "collapsed": true
   },
   "outputs": [],
   "source": [
    "# Test\n",
    "df_lnk = remaining_job_list[2:10]"
   ]
  },
  {
   "cell_type": "code",
   "execution_count": 158,
   "metadata": {
    "collapsed": false
   },
   "outputs": [
    {
     "name": "stdout",
     "output_type": "stream",
     "text": [
      "https://www.naukri.com/job-listings-Business-Data-Scientist-Redhat-pune-Red-Hat-India-Pvt-Ltd-Pune-7-to-12-years-171017005438\n",
      "<a class=\"nLogo fl\" href=\"https://www.naukri.com\" itemprop=\"url\"><img alt=\"Naukri.com, India’s No.1 Job Site\" itemprop=\"logo\" src=\"https://static.naukimg.com/s/4/100/i/naukri_Logo.png\"/></a>\n",
      "Business Data Scientist _ Redhat_pune\n",
      "https://www.naukri.com/job-listings-Data-Scientist-Adecco-India-Private-Limited-Pune-3-to-5-years-310717006501\n",
      "<a class=\"nLogo fl\" href=\"https://www.naukri.com/premium-jobs-for-iit-engineering-graduates\" itemprop=\"url\"><img alt=\"Naukri.com, India’s No.1 Job Site\" itemprop=\"logo\" src=\"https://static.naukimg.com/s/4/100/i/naukri_premium_Logo_v1.png\"/></a>\n",
      "Data Scientist\n",
      "https://www.naukri.com/job-listings-Urgent-Opening-for-Data-Scientist-sas-Mumbai-Adecco-India-Private-Limited-Mumbai-3-to-8-years-090817020498\n",
      "<a class=\"nLogo fl\" href=\"https://www.naukri.com\" itemprop=\"url\"><img alt=\"Naukri.com, India’s No.1 Job Site\" itemprop=\"logo\" src=\"https://static.naukimg.com/s/4/100/i/naukri_Logo.png\"/></a>\n",
      "Job | Urgent Job Opening for Data Scientist (sas) - Mumbai\n",
      "https://www.naukri.com/job-listings-Sr-Data-Scientist-Pykih-Data-Intelligence-Private-Limited-Ahmedabad-5-to-10-years-161017005627\n",
      "<a class=\"nLogo fl\" href=\"https://www.naukri.com\" itemprop=\"url\"><img alt=\"Naukri.com, India’s No.1 Job Site\" itemprop=\"logo\" src=\"https://static.naukimg.com/s/4/100/i/naukri_Logo.png\"/></a>\n",
      "Sr. Data Scientist\n",
      "https://www.naukri.com/job-listings-Data-Scientist-Requirement-for-Pune-L-T-Infotech-Larsen-Toubro-Infotech-Limited-Pune-7-to-11-years-111017004506\n",
      "<a class=\"fr mt5\" href=\"javascript:void(0);\" id=\"srfClose\" onclick=\"hidemodal();\" title=\"Close\"><span class=\"crossLB\"> </span></a>\n"
     ]
    },
    {
     "ename": "AttributeError",
     "evalue": "'NoneType' object has no attribute 'getText'",
     "output_type": "error",
     "traceback": [
      "\u001b[0;31m---------------------------------------------------------------------------\u001b[0m",
      "\u001b[0;31mAttributeError\u001b[0m                            Traceback (most recent call last)",
      "\u001b[0;32m<ipython-input-158-85d500738964>\u001b[0m in \u001b[0;36m<module>\u001b[0;34m()\u001b[0m\n\u001b[1;32m      6\u001b[0m     \u001b[0mjob_soup\u001b[0m \u001b[1;33m=\u001b[0m \u001b[0mBeautifulSoup\u001b[0m\u001b[1;33m(\u001b[0m\u001b[0mjob_page\u001b[0m\u001b[1;33m,\u001b[0m \u001b[1;34m\"html.parser\"\u001b[0m\u001b[1;33m)\u001b[0m\u001b[1;33m\u001b[0m\u001b[0m\n\u001b[1;32m      7\u001b[0m     \u001b[0mprint\u001b[0m\u001b[1;33m(\u001b[0m\u001b[0mjob_soup\u001b[0m\u001b[1;33m.\u001b[0m\u001b[0ma\u001b[0m\u001b[1;33m)\u001b[0m\u001b[1;33m\u001b[0m\u001b[0m\n\u001b[0;32m----> 8\u001b[0;31m     \u001b[0mjob_title\u001b[0m \u001b[1;33m=\u001b[0m \u001b[0mjob_soup\u001b[0m\u001b[1;33m.\u001b[0m\u001b[0mfind\u001b[0m\u001b[1;33m(\u001b[0m\u001b[1;34m\"h1\"\u001b[0m\u001b[1;33m,\u001b[0m \u001b[1;33m{\u001b[0m\u001b[1;34m\"itemprop\"\u001b[0m\u001b[1;33m:\u001b[0m\u001b[1;34m\"title\"\u001b[0m\u001b[1;33m}\u001b[0m\u001b[1;33m)\u001b[0m\u001b[1;33m.\u001b[0m\u001b[0mgetText\u001b[0m\u001b[1;33m(\u001b[0m\u001b[1;33m)\u001b[0m\u001b[1;33m.\u001b[0m\u001b[0mstrip\u001b[0m\u001b[1;33m(\u001b[0m\u001b[1;33m)\u001b[0m\u001b[1;33m\u001b[0m\u001b[0m\n\u001b[0m\u001b[1;32m      9\u001b[0m     \u001b[0mprint\u001b[0m\u001b[1;33m(\u001b[0m\u001b[0mjob_title\u001b[0m\u001b[1;33m)\u001b[0m\u001b[1;33m\u001b[0m\u001b[0m\n",
      "\u001b[0;31mAttributeError\u001b[0m: 'NoneType' object has no attribute 'getText'"
     ]
    }
   ],
   "source": [
    "for index, row in df_lnk.iterrows():\n",
    "    job_url = row[\"Actual_Job_Link\"]\n",
    "    print(job_url)\n",
    "    job_response = requests.get(job_url)\n",
    "    job_page = job_response.text\n",
    "    job_soup = BeautifulSoup(job_page, \"html.parser\")\n",
    "    print(job_soup.a)\n",
    "    job_title = job_soup.find(\"h1\", {\"itemprop\":\"title\"}).getText().strip()\n",
    "    print(job_title)"
   ]
  },
  {
   "cell_type": "code",
   "execution_count": null,
   "metadata": {
    "collapsed": true
   },
   "outputs": [],
   "source": [
    "# For few pages, all the class name and everything need to change. They have different Kind of page structure.\n",
    "# We are not going to scrap that. Expecting 75-80 % of pages from the total list "
   ]
  }
 ],
 "metadata": {
  "kernelspec": {
   "display_name": "Python 3",
   "language": "python",
   "name": "python3"
  },
  "language_info": {
   "codemirror_mode": {
    "name": "ipython",
    "version": 3
   },
   "file_extension": ".py",
   "mimetype": "text/x-python",
   "name": "python",
   "nbconvert_exporter": "python",
   "pygments_lexer": "ipython3",
   "version": "3.6.0"
  }
 },
 "nbformat": 4,
 "nbformat_minor": 2
}
